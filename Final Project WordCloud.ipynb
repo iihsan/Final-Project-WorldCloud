{
 "cells": [
  {
   "cell_type": "markdown",
   "metadata": {},
   "source": [
    "# Final Project - Word Cloud"
   ]
  },
  {
   "cell_type": "markdown",
   "metadata": {},
   "source": [
    "For this project, you'll create a \"word cloud\" from a text by writing a script. This script needs to process the text, remove punctuation, ignore case and words that do not contain all alphabets, count the frequencies, and ignore uninteresting or irrelevant words. A dictionary is the output of the calculate_frequencies function. The wordcloud module will then generate the image from your dictionary.\n",
    "\n",
    "For the input text of your script, you will need to provide a file that contains text only. For the text itself, you can copy and paste the contents of a website you like. Or you can use a site like Project Gutenberg to find books that are available online. You could see what word clouds you can get from famous books, like a Shakespeare play or a novel by Jane Austen. Save this as a .txt file somewhere on your computer.\n",
    "\n",
    "Now you will need to upload your input file here so that your script will be able to process it. To do the upload, you will need an uploader widget. Run the following cell to perform all the installs and imports for your word cloud script and uploader widget. It may take a minute for all of this to run and there will be a lot of output messages. But, be patient. Once you get the following final line of output, the code is done executing. Then you can continue on with the rest of the instructions for this notebook."
   ]
  },
  {
   "cell_type": "markdown",
   "metadata": {},
   "source": [
    "- Enabling notebook extension fileupload/extension...\n",
    "- Validating: OK"
   ]
  },
  {
   "cell_type": "code",
   "execution_count": 9,
   "metadata": {},
   "outputs": [
    {
     "name": "stdout",
     "output_type": "stream",
    {
     "name": "stderr",
     "output_type": "stream",
     "text": [
      "Installing C:\\Users\\HP\\anaconda3\\lib\\site-packages\\fileupload\\static -> fileupload\n",
      "Up to date: C:\\Users\\HP\\AppData\\Roaming\\jupyter\\nbextensions\\fileupload\\extension.js\n",
      "Up to date: C:\\Users\\HP\\AppData\\Roaming\\jupyter\\nbextensions\\fileupload\\widget.js\n",
      "Up to date: C:\\Users\\HP\\AppData\\Roaming\\jupyter\\nbextensions\\fileupload\\fileupload\\widget.js\n",
      "- Validating: ok\n",
      "\n",
      "    To initialize this nbextension in the browser every time the notebook (or other app) loads:\n",
      "    \n",
      "          jupyter nbextension enable fileupload --user --py\n",
      "    \n",
      "Enabling notebook extension fileupload/extension...\n",
      "      - Validating: ok\n"
     ]
    }
   ],
   "source": [
    "# Here are all the installs and imports you will need for your word cloud script and uploader widget\n",
    "\n",
    "!pip install wordcloud\n",
    "!pip install fileupload\n",
    "!pip install ipywidgets\n",
    "!jupyter nbextension install --py --user fileupload\n",
    "!jupyter nbextension enable --py fileupload\n",
    "\n",
    "import wordcloud\n",
    "import numpy as np\n",
    "from matplotlib import pyplot as plt\n",
    "from IPython.display import display\n",
    "import fileupload\n",
    "import io\n",
    "import sys"
   ]
  },
  {
   "cell_type": "markdown",
   "metadata": {},
   "source": [
    "- Whew! That was a lot. All of the installs and imports for your word cloud script and uploader widget have been completed.\n",
    "\n",
    "- IMPORTANT! If this was your first time running the above cell containing the installs and imports, you will need save this notebook now. Then under the File menu above, select Close and Halt. When the notebook has completely shut down, reopen it. This is the only way the necessary changes will take affect.\n",
    "\n",
    "- To upload your text file, run the following cell that contains all the code for a custom uploader widget. Once you run this cell, a \"Browse\" button should appear below it. Click this button and navigate the window to locate your saved text file."
   ]
  },
  {
   "cell_type": "code",
   "execution_count": 10,
   "metadata": {},
   "outputs": [
    {
     "data": {
      "application/vnd.jupyter.widget-view+json": {
       "model_id": "8ab832fc24324f1a9e2959e0ebc7a2f9",
       "version_major": 2,
       "version_minor": 0
      },
      "text/plain": [
       "FileUploadWidget(label='Browse', _dom_classes=('widget_item', 'btn-group'))"
      ]
     },
     "metadata": {},
     "output_type": "display_data"
    }
   ],
   "source": [
    "# This is the uploader widget\n",
    "\n",
    "def _upload():\n",
    "\n",
    "    _upload_widget = fileupload.FileUploadWidget()\n",
    "\n",
    "    def _cb(change):\n",
    "        global file_contents\n",
    "        decoded = io.StringIO(change['owner'].data.decode('utf-8'))\n",
    "        filename = change['owner'].filename\n",
    "        print('Uploaded `{}` ({:.2f} kB)'.format(\n",
    "            filename, len(decoded.read()) / 2 **10))\n",
    "        file_contents = decoded.getvalue()\n",
    "\n",
    "    _upload_widget.observe(_cb, names='data')\n",
    "    display(_upload_widget)\n",
    "\n",
    "_upload()"
   ]
  },
  {
   "cell_type": "markdown",
   "metadata": {},
   "source": [
    "- The uploader widget saved the contents of your uploaded file into a string object named file_contents that your word cloud script can process. This was a lot of preliminary work, but you are now ready to begin your script.\n",
    "\n",
    "- Write a function in the cell below that iterates through the words in file_contents, removes punctuation, and counts the frequency of each word. Oh, and be sure to make it ignore word case, words that do not contain all alphabets and boring words like \"and\" or \"the\". Then use it in the generate_from_frequencies function to generate your very own word cloud!\n",
    "\n",
    "Hint: Try storing the results of your iteration in a dictionary before passing them into wordcloud via the generate_from_frequencies function."
   ]
  },
  {
   "cell_type": "code",
   "execution_count": 11,
   "metadata": {},
   "outputs": [],
   "source": [
    "def calculate_frequencies(file_contents):\n",
    "    # Here is a list of punctuations and uninteresting words you can use to process your text\n",
    "    punctuations = '''!()-[]{};:'\"\\,<>./?@#$%^&*_~'''\n",
    "    uninteresting_words = [\"the\", \"a\", \"to\", \"if\", \"is\", \"it\", \"of\", \"and\", \"or\", \"an\", \"as\", \"i\", \"me\", \"my\", \\\n",
    "    \"we\", \"our\", \"ours\", \"you\", \"your\", \"yours\", \"he\", \"she\", \"him\", \"his\", \"her\", \"hers\", \"its\", \"they\", \"them\", \\\n",
    "    \"their\", \"what\", \"which\", \"who\", \"whom\", \"this\", \"that\", \"am\", \"are\", \"was\", \"were\", \"be\", \"been\", \"being\", \\\n",
    "    \"have\", \"has\", \"had\", \"do\", \"does\", \"did\", \"but\", \"at\", \"by\", \"with\", \"from\", \"here\", \"when\", \"where\", \"how\", \\\n",
    "    \"all\", \"any\", \"both\", \"each\", \"few\", \"more\", \"some\", \"such\", \"no\", \"nor\", \"too\", \"very\", \"can\", \"will\", \"just\"]\n",
    "    \n",
    "    # LEARNER CODE START HERE\n",
    "    results={}\n",
    "    for word in file_contents:\n",
    "        if word.isalpha():\n",
    "            word=word.lower()\n",
    "            if word not in punctuations or uninteresting_words:\n",
    "                if word in results:\n",
    "                    results[word]+=1\n",
    "                else:\n",
    "                    results[word]=1\n",
    "    \n",
    "    #wordcloud\n",
    "    cloud = wordcloud.WordCloud()\n",
    "    cloud.generate_from_frequencies(results)\n",
    "    return cloud.to_array()"
   ]
  },
  {
   "cell_type": "code",
   "execution_count": null,
   "metadata": {},
   "outputs": [],
   "source": [
    "If you have done everything correctly, your word cloud image should appear after running the cell below. Fingers crossed!"
   ]
  },
  {
   "cell_type": "code",
   "execution_count": 13,
   "metadata": {},
   "outputs": [
    {
     "data": {
      "image/png": "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\n",
      "text/plain": [
       "<Figure size 432x288 with 1 Axes>"
      ]
     },
     "metadata": {
      "needs_background": "light"
     },
     "output_type": "display_data"
    }
   ],
   "source": [
    "# Display your wordcloud image\n",
    "\n",
    "file_contents=\"\"\"Project Gutenberg is a library of over 60,000 free eBooks. Choose among free epub and Kindle eBooks, download them or read them online. You will find the world's great literature here, with focus on older works for which U.S. copyright has expired. Thousands of volunteers digitized and diligently proofread the eBooks, for enjoyment and education.\n",
    "\n",
    "Looking for something to read? Project Gutenberg eBooks are mostly older literary works. Most were published before 1924, with some published in the decades after. Use one of the Search methods on this page, or try using the Bookshelves to browse by genre, age group, and topic.\n",
    "\n",
    "New website available for testing. Visit https://dev.gutenberg.org (or http://dev.gutenberg.org) to test the site (it may have occasional outages, as improvements are made). There is a new website page that lists some known issues, and part of the motivation for the change. If you visit the new website, please consider providing your input and suggestions via an anonymous online survey afterwards.\n",
    "\n",
    "No fee or registration! Everything from Project Gutenberg is gratis, libre, and completely without cost to readers. If you find Project Gutenberg useful, please consider a small donation, to help Project Gutenberg digitize more books, maintain our online presence, and improve Project Gutenberg programs and offerings. Other ways to help include digitizing, proofreading and formatting, recording audio books, or reporting errors.\n",
    "\n",
    "No special apps needed! Project Gutenberg eBooks require no special apps to read, just the regular Web browsers or eBook readers that are included with computers and mobile devices. There have been reports of sites that charge fees for custom apps, or for the same eBooks that are freely available from Project Gutenberg. Some of the apps might have worthwhile features, but none are required to enjoy Project Gutenberg eBooks.\n",
    "\"\"\"\n",
    "\n",
    "myimage = calculate_frequencies(file_contents)\n",
    "plt.imshow(myimage, interpolation = 'nearest')\n",
    "plt.axis('off')\n",
    "plt.show()"
   ]
  },
  {
   "cell_type": "code",
   "execution_count": null,
   "metadata": {},
   "outputs": [],
   "source": []
  }
 ],
 "metadata": {
  "kernelspec": {
   "display_name": "Python 3",
   "language": "python",
   "name": "python3"
  },
  "language_info": {
   "codemirror_mode": {
    "name": "ipython",
    "version": 3
   },
   "file_extension": ".py",
   "mimetype": "text/x-python",
   "name": "python",
   "nbconvert_exporter": "python",
   "pygments_lexer": "ipython3",
   "version": "3.7.6"
  }
 },
 "nbformat": 4,
 "nbformat_minor": 4
}
